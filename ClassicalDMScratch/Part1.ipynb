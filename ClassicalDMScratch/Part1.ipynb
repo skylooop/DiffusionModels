{
 "cells": [
  {
   "cell_type": "markdown",
   "id": "8c87e739-87a5-42fb-a294-ba55ec96361a",
   "metadata": {},
   "source": [
    "# Basic Playground with Diffusers Library"
   ]
  },
  {
   "cell_type": "code",
   "execution_count": 1,
   "id": "ed440d85-48e4-4d07-9335-35e4fa7558d2",
   "metadata": {},
   "outputs": [
    {
     "data": {
      "application/vnd.jupyter.widget-view+json": {
       "model_id": "5c17eb6dd2a94dbab9e7fb7b28cf2526",
       "version_major": 2,
       "version_minor": 0
      },
      "text/plain": [
       "VBox(children=(HTML(value='<center> <img\\nsrc=https://huggingface.co/front/assets/huggingface_logo-noborder.sv…"
      ]
     },
     "metadata": {},
     "output_type": "display_data"
    }
   ],
   "source": [
    "from huggingface_hub import notebook_login\n",
    "\n",
    "notebook_login()"
   ]
  },
  {
   "cell_type": "code",
   "execution_count": 2,
   "id": "58790c50-2bdc-46ed-8c6d-cb97163e461a",
   "metadata": {},
   "outputs": [
    {
     "name": "stdout",
     "output_type": "stream",
     "text": [
      "Fri Dec  2 15:32:56 2022       \n",
      "+-----------------------------------------------------------------------------+\n",
      "| NVIDIA-SMI 515.65.01    Driver Version: 515.65.01    CUDA Version: 11.7     |\n",
      "|-------------------------------+----------------------+----------------------+\n",
      "| GPU  Name        Persistence-M| Bus-Id        Disp.A | Volatile Uncorr. ECC |\n",
      "| Fan  Temp  Perf  Pwr:Usage/Cap|         Memory-Usage | GPU-Util  Compute M. |\n",
      "|                               |                      |               MIG M. |\n",
      "|===============================+======================+======================|\n",
      "|   0  Quadro P6000        On   | 00000000:3B:00.0 Off |                  Off |\n",
      "| 30%   65C    P0    73W / 250W |  24222MiB / 24576MiB |      1%      Default |\n",
      "|                               |                      |                  N/A |\n",
      "+-------------------------------+----------------------+----------------------+\n",
      "|   1  Quadro RTX 6000     On   | 00000000:AF:00.0 Off |                  Off |\n",
      "|  0%   47C    P2    64W / 260W |  10904MiB / 24576MiB |      0%      Default |\n",
      "|                               |                      |                  N/A |\n",
      "+-------------------------------+----------------------+----------------------+\n",
      "|   2  Quadro RTX 6000     On   | 00000000:D8:00.0 Off |                  Off |\n",
      "| 33%   38C    P8    13W / 260W |  14414MiB / 24576MiB |      0%      Default |\n",
      "|                               |                      |                  N/A |\n",
      "+-------------------------------+----------------------+----------------------+\n",
      "                                                                               \n",
      "+-----------------------------------------------------------------------------+\n",
      "| Processes:                                                                  |\n",
      "|  GPU   GI   CI        PID   Type   Process name                  GPU Memory |\n",
      "|        ID   ID                                                   Usage      |\n",
      "|=============================================================================|\n",
      "+-----------------------------------------------------------------------------+\n"
     ]
    }
   ],
   "source": [
    "import torch\n",
    "!nvidia-smi"
   ]
  },
  {
   "cell_type": "code",
   "execution_count": 3,
   "id": "ecdc81bb-8911-4067-ac95-7ada913b965f",
   "metadata": {},
   "outputs": [],
   "source": [
    "import torch.nn as nn\n",
    "import diffusers\n",
    "import torch.nn.functional as F\n",
    "from torch import autocast\n",
    "from diffusers import StableDiffusionPipeline"
   ]
  },
  {
   "cell_type": "code",
   "execution_count": 9,
   "id": "d49a8645-ca16-4c57-af23-d5a747fbc5fc",
   "metadata": {},
   "outputs": [],
   "source": [
    "import matplotlib.pyplot as plt\n",
    "from PIL import Image\n",
    "\n",
    "def show_image(image: Image) -> None:\n",
    "    plt.figure(figsize=(8, 8))\n",
    "    plt.imshow(image)\n",
    "    \n",
    "    plt.axis('off')\n",
    "    plt.tight_layout()\n",
    "    plt.show()"
   ]
  },
  {
   "cell_type": "code",
   "execution_count": null,
   "id": "bcf3a6ee-c5ac-4b0a-8f76-7b46bbef69d3",
   "metadata": {},
   "outputs": [],
   "source": [
    "pipe = StableDiffusionPipeline.from_pretrained(\n",
    "    'CompVis/stable-diffusion-v1-4',\n",
    "    use_auth_token=True,\n",
    "    revision='fp16',\n",
    "    torch_dtype=torch.float16\n",
    ")\n",
    "pipe.enable_attention_slicing()"
   ]
  },
  {
   "cell_type": "markdown",
   "id": "f8fd56c2-4b18-4d9a-b991-d8c1b23dfa1d",
   "metadata": {},
   "source": [
    "## Disable NSFW checker"
   ]
  },
  {
   "cell_type": "code",
   "execution_count": null,
   "id": "7fe10841-55f3-4ac8-a1c6-08ac6164f1db",
   "metadata": {},
   "outputs": [],
   "source": [
    "def disable_check(images, **kwargs):\n",
    "    return images, False\n",
    "pipe.safety_checker = disable_check"
   ]
  },
  {
   "cell_type": "code",
   "execution_count": null,
   "id": "d51e5d01-60e6-4a68-bd84-7d44f20a8045",
   "metadata": {},
   "outputs": [],
   "source": [
    "prompt = \"The sun is setting over a beach town in japan, \\\n",
    "                    cyberpunk art by alena aenami, featured on deviantart, digital art, \\\n",
    "                        matte drawing, matte painting, speedpainting\"\n",
    "negative_prompt = \"bad details, ugly\"\n",
    "image = pipe(prompt, negative_prompt=negative_prompt)\n",
    "show_image(image)"
   ]
  }
 ],
 "metadata": {
  "kernelspec": {
   "display_name": "Python 3 (ipykernel)",
   "language": "python",
   "name": "python3"
  },
  "language_info": {
   "codemirror_mode": {
    "name": "ipython",
    "version": 3
   },
   "file_extension": ".py",
   "mimetype": "text/x-python",
   "name": "python",
   "nbconvert_exporter": "python",
   "pygments_lexer": "ipython3",
   "version": "3.9.5"
  }
 },
 "nbformat": 4,
 "nbformat_minor": 5
}
